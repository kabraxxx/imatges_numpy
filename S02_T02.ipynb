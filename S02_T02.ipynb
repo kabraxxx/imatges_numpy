{
 "cells": [
  {
   "cell_type": "markdown",
   "id": "33fdbfda",
   "metadata": {},
   "source": [
    "# S02 T02: Estructura d'una Matriu #"
   ]
  },
  {
   "cell_type": "markdown",
   "id": "580c56d5",
   "metadata": {},
   "source": [
    "Anem a practicar i a familiaritzar-nos amb l'estructura de Matrius, dimensió, forma, vectorització i Broadcasting ."
   ]
  },
  {
   "cell_type": "markdown",
   "id": "465fbfd7",
   "metadata": {},
   "source": [
    "## Nivell 1 ##"
   ]
  },
  {
   "cell_type": "markdown",
   "id": "64a6afcd",
   "metadata": {},
   "source": [
    "Treballem els conceptes de l'estructura d'una matriu, dimensió, eixos i la vectorització que ens permet reduir l'ús de for loops en operacions aritmètiques o matemàtiques.."
   ]
  },
  {
   "cell_type": "markdown",
   "id": "8851d4c4",
   "metadata": {},
   "source": [
    "### - Exercici 1 ###"
   ]
  },
  {
   "cell_type": "markdown",
   "id": "83b54adb",
   "metadata": {},
   "source": [
    "Crea un np.array d'una dimensió, que inclogui l'almenys 8 nombres sencers, data type int64. Mostra la dimensió i la forma de la matriu."
   ]
  },
  {
   "cell_type": "code",
   "execution_count": 7,
   "id": "73ee1fb8",
   "metadata": {},
   "outputs": [
    {
     "name": "stdout",
     "output_type": "stream",
     "text": [
      "Dimensió de la matriu: 1\n",
      "Forma de la matriu: [1 2 3 4 5 6 7 8]\n"
     ]
    }
   ],
   "source": [
    "import numpy as np\n",
    "arr = np.array([1, 2, 3, 4, 5, 6, 7, 8])\n",
    "\n",
    "print(\"Dimensió de la matriu:\",arr.ndim)\n",
    "print(\"Forma de la matriu:\",arr)"
   ]
  },
  {
   "cell_type": "markdown",
   "id": "853b47df",
   "metadata": {},
   "source": [
    "### - Exercici 2 ###"
   ]
  },
  {
   "cell_type": "markdown",
   "id": "4d83dece",
   "metadata": {},
   "source": [
    "De la matriu de l'exercici 1, calcula el valor mitjà dels valors introduïts i resta la mitjana resultant de cada un dels valors de la matriu."
   ]
  },
  {
   "cell_type": "code",
   "execution_count": 8,
   "id": "0b3e1396",
   "metadata": {},
   "outputs": [],
   "source": [
    "import numpy as np\n",
    "arr = np.array([1, 2, 3, 4, 5, 6, 7, 8])\n",
    "\n"
   ]
  },
  {
   "cell_type": "markdown",
   "id": "d0ed6ada",
   "metadata": {},
   "source": [
    "### - Exercici 3 ###"
   ]
  },
  {
   "cell_type": "markdown",
   "id": "8183aced",
   "metadata": {},
   "source": [
    "Crea una matriu bidimensional amb una forma de 5 x 5. Extreu el valor màxim de la matriu, i els valors màxims de cadascun dels seus eixos."
   ]
  },
  {
   "cell_type": "code",
   "execution_count": 31,
   "id": "88f08a11",
   "metadata": {
    "scrolled": true
   },
   "outputs": [
    {
     "name": "stdout",
     "output_type": "stream",
     "text": [
      "Quants números hi ha?\n",
      "7\n",
      "\n",
      "Quantes vegades apareix el número 3?\n",
      "1\n",
      "\n",
      "Quantes vegades apareixen els nombres 3 i 4?\n",
      "El numero 3 apareix: 1 vegades.\n",
      "El numero 4 apareix: 2 vegades.\n",
      "\n",
      "Quin és el número més gran?\n",
      "El numero més gran es: 4\n",
      "\n",
      "Quins són els 3 números més petits?\n",
      "Els 3 numeros més petits son: 1, 2 y 3\n",
      "\n",
      "Quin és el rang d’aquesta llista?\n",
      "El rang de la llista es del 0 al 6.\n"
     ]
    }
   ],
   "source": [
    "numbers = [3, 4, 4, 6, 2, 8, 1]\n",
    "print(\"Quants números hi ha?\")\n",
    "print(len(numbers))\n",
    "\n",
    "print(\"\\nQuantes vegades apareix el número 3?\")\n",
    "times = 0\n",
    "for x in numbers:\n",
    "    if 2 == x:\n",
    "        times += 1\n",
    "print(times)\n",
    "\n",
    "print(\"\\nQuantes vegades apareixen els nombres 3 i 4?\")\n",
    "timesA = 0\n",
    "timesB = 0\n",
    "for x in numbers:\n",
    "    if 3 == x:\n",
    "        timesA += 1\n",
    "    if 4 == x:\n",
    "        timesB += 1\n",
    "print(\"El numero 3 apareix:\", timesA, \"vegades.\")\n",
    "print(\"El numero 4 apareix:\", timesB, \"vegades.\")\n",
    "\n",
    "print(\"\\nQuin és el número més gran?\")\n",
    "numbers.sort()\n",
    "print(\"El numero més gran es:\", numbers[4])\n",
    "    \n",
    "print(\"\\nQuins són els 3 números més petits?\")\n",
    "print(\"Els 3 numeros més petits son: {}, {} y {}\".format(numbers[0],numbers[1],numbers[2]))\n",
    "\n",
    "print(\"\\nQuin és el rang d’aquesta llista?\")\n",
    "print(\"El rang de la llista es del {} al {}.\".format(numbers.index(numbers[0]), numbers.index(numbers[len(numbers)-1])))"
   ]
  },
  {
   "cell_type": "markdown",
   "id": "9171b19d",
   "metadata": {},
   "source": [
    "## Nivell 2 ##"
   ]
  },
  {
   "cell_type": "markdown",
   "id": "686e46fa",
   "metadata": {},
   "source": [
    "Treballem els conceptes de l'estructura d'una matriu, Broadcasting, indexació, Mask.."
   ]
  },
  {
   "cell_type": "markdown",
   "id": "68a699ef",
   "metadata": {},
   "source": [
    "### - Exercici 4 ###"
   ]
  },
  {
   "cell_type": "markdown",
   "id": "31538097",
   "metadata": {},
   "source": [
    "Mostreu-me amb exemples de diferents matrius, la regla fonamental de Broadcasting que diu : \"les matrius es poden transmetre / broadcast si les seves dimensions coincideixen o si una de les matrius té una mida d'1\"."
   ]
  },
  {
   "cell_type": "code",
   "execution_count": null,
   "id": "d1f852c7",
   "metadata": {},
   "outputs": [],
   "source": []
  }
 ],
 "metadata": {
  "kernelspec": {
   "display_name": "Python 3 (ipykernel)",
   "language": "python",
   "name": "python3"
  },
  "language_info": {
   "codemirror_mode": {
    "name": "ipython",
    "version": 3
   },
   "file_extension": ".py",
   "mimetype": "text/x-python",
   "name": "python",
   "nbconvert_exporter": "python",
   "pygments_lexer": "ipython3",
   "version": "3.9.7"
  },
  "latex_envs": {
   "LaTeX_envs_menu_present": true,
   "autoclose": false,
   "autocomplete": true,
   "bibliofile": "biblio.bib",
   "cite_by": "apalike",
   "current_citInitial": 1,
   "eqLabelWithNumbers": true,
   "eqNumInitial": 1,
   "hotkeys": {
    "equation": "Ctrl-E",
    "itemize": "Ctrl-I"
   },
   "labels_anchors": false,
   "latex_user_defs": false,
   "report_style_numbering": false,
   "user_envs_cfg": false
  }
 },
 "nbformat": 4,
 "nbformat_minor": 5
}
